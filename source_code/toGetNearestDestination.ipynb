{
 "cells": [
  {
   "cell_type": "code",
   "execution_count": 13,
   "metadata": {},
   "outputs": [],
   "source": [
    "from mysqlUtilities import getMinDistanceIntersection, calculateDistance"
   ]
  },
  {
   "cell_type": "code",
   "execution_count": 14,
   "metadata": {},
   "outputs": [
    {
     "name": "stdout",
     "output_type": "stream",
     "text": [
      "SELECT latitude, longitude, (3959 * acos(cos(radians(40.76177216))*cos(radians(latitude))*cos(radians(longitude) - radians(-73.97306061)) + sin(radians(40.76177216)) * sin(radians(latitude)))) AS distance FROM intersections HAVING distance < 1.50 ORDER BY distance LIMIT 0 , 1;\n"
     ]
    },
    {
     "name": "stderr",
     "output_type": "stream",
     "text": [
      "ERROR:root:Internal Python error in the inspect module.\n",
      "Below is the traceback from this internal error.\n",
      "\n"
     ]
    },
    {
     "name": "stdout",
     "output_type": "stream",
     "text": [
      "Error while connecting to MySQL MySQL Connection not available.\n",
      "Exception occurred : can only concatenate str (not \"float\") to str\n",
      "Traceback (most recent call last):\n",
      "  File \"/Library/Frameworks/Python.framework/Versions/3.7/lib/python3.7/site-packages/IPython/core/interactiveshell.py\", line 3326, in run_code\n",
      "    exec(code_obj, self.user_global_ns, self.user_ns)\n",
      "  File \"<ipython-input-14-2277d2f8edbe>\", line 1, in <module>\n",
      "    result = getMinDistanceIntersection(40.77375412, -73.87276459, 40.76177216, -73.97306061,0)\n",
      "  File \"/Users/varunyayanamadala/Documents/Sem2/DBMS/Project/source_code/mysqlUtilities.py\", line 99, in getMinDistanceIntersection\n",
      "    distance = str(calculateDistance(sourceLat,sourceLong,destLat,destLong))\n",
      "  File \"/Users/varunyayanamadala/Documents/Sem2/DBMS/Project/source_code/mysqlUtilities.py\", line 72, in calculateDistance\n",
      "    raise e\n",
      "  File \"/Users/varunyayanamadala/Documents/Sem2/DBMS/Project/source_code/mysqlUtilities.py\", line 60, in calculateDistance\n",
      "    \"&destinations=\" + destination_latitude1 + \",\" + destination_longitude1 + \"&travelMode=driving\"\n",
      "TypeError: can only concatenate str (not \"float\") to str\n",
      "\n",
      "During handling of the above exception, another exception occurred:\n",
      "\n",
      "Traceback (most recent call last):\n",
      "  File \"/Library/Frameworks/Python.framework/Versions/3.7/lib/python3.7/site-packages/IPython/core/interactiveshell.py\", line 2040, in showtraceback\n",
      "    stb = value._render_traceback_()\n",
      "AttributeError: 'TypeError' object has no attribute '_render_traceback_'\n",
      "\n",
      "During handling of the above exception, another exception occurred:\n",
      "\n",
      "Traceback (most recent call last):\n",
      "  File \"/Library/Frameworks/Python.framework/Versions/3.7/lib/python3.7/site-packages/IPython/core/ultratb.py\", line 1101, in get_records\n",
      "    return _fixed_getinnerframes(etb, number_of_lines_of_context, tb_offset)\n",
      "  File \"/Library/Frameworks/Python.framework/Versions/3.7/lib/python3.7/site-packages/IPython/core/ultratb.py\", line 319, in wrapped\n",
      "    return f(*args, **kwargs)\n",
      "  File \"/Library/Frameworks/Python.framework/Versions/3.7/lib/python3.7/site-packages/IPython/core/ultratb.py\", line 353, in _fixed_getinnerframes\n",
      "    records = fix_frame_records_filenames(inspect.getinnerframes(etb, context))\n",
      "  File \"/Library/Frameworks/Python.framework/Versions/3.7/lib/python3.7/inspect.py\", line 1502, in getinnerframes\n",
      "    frameinfo = (tb.tb_frame,) + getframeinfo(tb, context)\n",
      "  File \"/Library/Frameworks/Python.framework/Versions/3.7/lib/python3.7/inspect.py\", line 1460, in getframeinfo\n",
      "    filename = getsourcefile(frame) or getfile(frame)\n",
      "  File \"/Library/Frameworks/Python.framework/Versions/3.7/lib/python3.7/inspect.py\", line 696, in getsourcefile\n",
      "    if getattr(getmodule(object, filename), '__loader__', None) is not None:\n",
      "  File \"/Library/Frameworks/Python.framework/Versions/3.7/lib/python3.7/inspect.py\", line 739, in getmodule\n",
      "    f = getabsfile(module)\n",
      "  File \"/Library/Frameworks/Python.framework/Versions/3.7/lib/python3.7/inspect.py\", line 708, in getabsfile\n",
      "    _filename = getsourcefile(object) or getfile(object)\n",
      "  File \"/Library/Frameworks/Python.framework/Versions/3.7/lib/python3.7/inspect.py\", line 693, in getsourcefile\n",
      "    if os.path.exists(filename):\n",
      "  File \"/Library/Frameworks/Python.framework/Versions/3.7/lib/python3.7/genericpath.py\", line 19, in exists\n",
      "    os.stat(path)\n",
      "KeyboardInterrupt\n"
     ]
    },
    {
     "ename": "TypeError",
     "evalue": "can only concatenate str (not \"float\") to str",
     "output_type": "error",
     "traceback": [
      "\u001b[0;31m---------------------------------------------------------------------------\u001b[0m"
     ]
    }
   ],
   "source": [
    "result = getMinDistanceIntersection(40.77375412, -73.87276459, 40.76177216, -73.97306061,0)"
   ]
  },
  {
   "cell_type": "code",
   "execution_count": null,
   "metadata": {},
   "outputs": [],
   "source": [
    "len(result)"
   ]
  },
  {
   "cell_type": "code",
   "execution_count": 11,
   "metadata": {},
   "outputs": [],
   "source": [
    "result = (40.7616, -73.9729, 0.015265466974556944)"
   ]
  },
  {
   "cell_type": "code",
   "execution_count": 12,
   "metadata": {},
   "outputs": [
    {
     "data": {
      "text/plain": [
       "(40.7616, -73.9729, 0.015265466974556944)"
      ]
     },
     "execution_count": 12,
     "metadata": {},
     "output_type": "execute_result"
    }
   ],
   "source": [
    "result"
   ]
  },
  {
   "cell_type": "code",
   "execution_count": 10,
   "metadata": {},
   "outputs": [
    {
     "name": "stdout",
     "output_type": "stream",
     "text": [
      "SELECT latitude, longitude, (3959 * acos(cos(radians(12.345))*cos(radians(latitude))*cos(radians(longitude) - radians(1234.3432)) + sin(radians(12.345)) * sin(radians(latitude)))) AS distance FROM intersections HAVING distance < 1.50 ORDER BY distance LIMIT 0 , 1;\n"
     ]
    }
   ],
   "source": [
    "destLat = 12.345\n",
    "destLong = 1234.3432\n",
    "query = \"SELECT latitude, longitude, (3959 * acos(cos(radians(\" + str(destLat) + \"))*cos(radians(latitude))*\"+\"cos(radians(longitude) - radians(\" + str(destLong) + \")) + sin(radians(\" + str(destLat) + \")) * sin(radians(latitude)))) AS distance FROM intersections HAVING distance < 1.50 ORDER BY distance LIMIT 0 , 1;\"\n",
    "print(query)\n",
    "\n"
   ]
  }
 ],
 "metadata": {
  "kernelspec": {
   "display_name": "Python 3",
   "language": "python",
   "name": "python3"
  },
  "language_info": {
   "codemirror_mode": {
    "name": "ipython",
    "version": 3
   },
   "file_extension": ".py",
   "mimetype": "text/x-python",
   "name": "python",
   "nbconvert_exporter": "python",
   "pygments_lexer": "ipython3",
   "version": "3.7.4"
  }
 },
 "nbformat": 4,
 "nbformat_minor": 2
}
